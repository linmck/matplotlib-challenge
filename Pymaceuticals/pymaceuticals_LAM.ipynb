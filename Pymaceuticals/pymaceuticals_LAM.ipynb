{
 "cells": [
  {
   "cell_type": "code",
   "execution_count": null,
   "metadata": {},
   "outputs": [],
   "source": [
    "#Import dependencies\n",
    "%matplotlib inline\n",
    "import matplotlib.pyplot as plt\n",
    "from cycler import cycler\n",
    "import pandas as pd\n",
    "import numpy as np\n",
    "import os\n",
    "from scipy.stats import sem\n",
    "\n",
    "#Hide warning messages in notebook\n",
    "import warnings\n",
    "warnings.filterwarnings(\"ignore\")\n",
    "\n",
    "#Outline stylesheet to use for plots\n",
    "plt.style.use('ggplot')"
   ]
  },
  {
   "cell_type": "code",
   "execution_count": null,
   "metadata": {},
   "outputs": [],
   "source": [
    "#Pull data into notebook\n",
    "#Create paths to datasets \n",
    "mouse_drug_data_to_load = os.path.join(\"data\",\"mouse_drug_data.csv\")\n",
    "clinical_trial_data_to_load = os.path.join(\"data\",\"clinicaltrial_data.csv\")\n",
    "\n",
    "#Read the Mouse and Drug Data and the Clinical Trial Data\n",
    "mouse = pd.read_csv(mouse_drug_data_to_load)\n",
    "clinical = pd.read_csv(clinical_trial_data_to_load)\n",
    "\n",
    "#Combine the data into a single dataset\n",
    "study_data = pd.merge(mouse, clinical, on=\"Mouse ID\", how=\"outer\")\n",
    "\n",
    "#Display the data table for preview\n",
    "study_data.head()\n"
   ]
  },
  {
   "cell_type": "markdown",
   "metadata": {},
   "source": [
    "## Tumor Response to Treatment"
   ]
  },
  {
   "cell_type": "code",
   "execution_count": null,
   "metadata": {},
   "outputs": [],
   "source": [
    "#Tumor Response Mean\n",
    "# Create the tumor mean dataframe\n",
    "tumor_data = study_data.groupby([\"Drug\", \"Timepoint\"]) [\"Tumor Volume (mm3)\"]\n",
    "tumor_mean = tumor_data.mean()\n",
    "tumor_mean = tumor_mean.reset_index()\n",
    "\n",
    "#Pivot tumor mean dataframe\n",
    "tumor_mean_pivot = tumor_mean.pivot(index=\"Timepoint\", columns=\"Drug\", values=\"Tumor Volume (mm3)\")\n",
    "\n",
    "#Preview tumor standard error dataframe\n",
    "tumor_mean_pivot"
   ]
  },
  {
   "cell_type": "code",
   "execution_count": null,
   "metadata": {},
   "outputs": [],
   "source": [
    "#Tumor Response Standard Error\n",
    "#Create the tumor standard error dataframe\n",
    "tumor_se = tumor_data.sem()\n",
    "tumor_se = tumor_se.reset_index()\n",
    "\n",
    "#Pivot tumor standard error dataframe\n",
    "tumor_se_pivot = tumor_se.pivot(index=\"Timepoint\", columns=\"Drug\", values=\"Tumor Volume (mm3)\")\n",
    "\n",
    "#Preview tumor standard error dataframe\n",
    "tumor_se_pivot"
   ]
  },
  {
   "cell_type": "code",
   "execution_count": null,
   "metadata": {
    "scrolled": true
   },
   "outputs": [],
   "source": [
    "#Tumor Response Scatter Plot\n",
    "#Define colors to use for charts\n",
    "color_palette_list = ['#8C0036','#BE4236', '#D0803B', '#E6CF4B', '#99CC36','#94CCAE', '#4D819D',   \n",
    "                      '#394B9C','#7B5CE0','#666666']\n",
    "#Create tumor x axis\n",
    "total_time = tumor_mean_pivot.index[-1]\n",
    "x_axis = np.arange(0, total_time + 5, 5)\n",
    "\n",
    "#Create tumor y axis and plot tumor data\n",
    "drugs = tumor_mean_pivot.columns\n",
    "\n",
    "fig, ax = plt.subplots()\n",
    "\n",
    "for drug in drugs:\n",
    "    error = tumor_se_pivot[drug]\n",
    "    mean = tumor_mean_pivot[drug]\n",
    "    tumor_response = plt.errorbar(x_axis, mean, error, marker=\"o\", ls='-', lw=.5, label = drug)\n",
    "\n",
    "#Format tumor scatter plot\n",
    "plt.xlim(-3, total_time +25)\n",
    "plt.title(\"Tumor Response to Treatment Over Time\")\n",
    "plt.xlabel(\"Days\")\n",
    "plt.ylabel(\"Tumor Volume (mm3)\")\n",
    "plt.legend(loc='best', facecolor=\"white\")\n",
    "plt.rcParams['text.color'] = '#555555'\n",
    "plt.rcParams['axes.prop_cycle'] = cycler(color=color_palette_list)\n",
    "\n",
    "#Save and display tumor scatter plot\n",
    "plt.savefig(os.path.join(\"Images\",\"tumortreatment.png\"))\n",
    "plt.show()\n",
    "print(\"INSIGHT: Of the drugs tested, both Capomulin and Ramincane are the only treatments that, on average, decreased the mass of the tumor\")"
   ]
  },
  {
   "cell_type": "markdown",
   "metadata": {},
   "source": [
    "## Metastatic Response to Treatment"
   ]
  },
  {
   "cell_type": "code",
   "execution_count": null,
   "metadata": {},
   "outputs": [],
   "source": [
    "#Metastatic Sites Mean\n",
    "# Create the metastatic sites mean dataframe\n",
    "met_data = study_data.groupby([\"Drug\", \"Timepoint\"]) [\"Metastatic Sites\"]\n",
    "met_mean = met_data.mean()\n",
    "met_mean = met_mean.reset_index()\n",
    "\n",
    "#Pivot metastatic sites  mean dataframe\n",
    "met_mean_pivot = met_mean.pivot(index=\"Timepoint\", columns=\"Drug\", values=\"Metastatic Sites\")\n",
    "\n",
    "#Preview metastatic sites standard error dataframe\n",
    "met_mean_pivot\n"
   ]
  },
  {
   "cell_type": "code",
   "execution_count": null,
   "metadata": {},
   "outputs": [],
   "source": [
    "#Metastatic Sites Standard Error\n",
    "#Create the metastatic sites standard error dataframe\n",
    "met_se = met_data.sem()\n",
    "met_se = met_se.reset_index()\n",
    "\n",
    "#Pivot metastatic sites standard error dataframe\n",
    "met_se_pivot = met_se.pivot(index=\"Timepoint\", columns=\"Drug\", values=\"Metastatic Sites\")\n",
    "\n",
    "#Preview standard error dataframe\n",
    "met_se_pivot"
   ]
  },
  {
   "cell_type": "code",
   "execution_count": null,
   "metadata": {},
   "outputs": [],
   "source": [
    "#Metastatic Sites Scatter Plot\n",
    "#Create metastatic sites x axis\n",
    "total_time = met_mean_pivot.index[-1]\n",
    "x_axis = np.arange(0, total_time + 5, 5)\n",
    "\n",
    "#Create metastatic sites y axis and plot metastatic sites data\n",
    "drugs = met_mean_pivot.columns\n",
    "\n",
    "fig, ax = plt.subplots()\n",
    "\n",
    "for drug in drugs:\n",
    "    error = met_se_pivot[drug]\n",
    "    mean = met_mean_pivot[drug]\n",
    "    met_response = plt.errorbar(x_axis, mean, error, marker=\"o\", ls='-', lw=.5, label = drug)\n",
    "\n",
    "#Format metastatic sites scatter plot\n",
    "plt.xlim(-3, total_time +25)\n",
    "plt.title(\"Metastatic Spread During Treatment\")\n",
    "plt.xlabel(\"Days\")\n",
    "plt.ylabel(\"Metastatic Sites\")\n",
    "plt.legend(loc='best', facecolor=\"white\")\n",
    "plt.rcParams['text.color'] = '#555555'\n",
    "plt.rcParams['axes.prop_cycle'] = cycler(color=color_palette_list)\n",
    "\n",
    "#Save and display metastatic sites scatter plot\n",
    "plt.savefig(os.path.join(\"Images\",\"metastaticspread.png\"))\n",
    "plt.show()\n",
    "print(\"INSIGHT: On average, Capomulin and Ramincane show the slowest Metastatic Spread throughout the treatment\")"
   ]
  },
  {
   "cell_type": "markdown",
   "metadata": {},
   "source": [
    "## Survival Rates"
   ]
  },
  {
   "cell_type": "code",
   "execution_count": null,
   "metadata": {},
   "outputs": [],
   "source": [
    "#Mouse Count\n",
    "# Create the mouse count dataframe\n",
    "mouse_data = study_data.groupby([\"Drug\", \"Timepoint\"]) [\"Mouse ID\"].count()\n",
    "mouse_count = mouse_data.reset_index()\n",
    "\n",
    "#Pivot mouse count dataframe\n",
    "mouse_count_pivot = mouse_count.pivot(index=\"Timepoint\", columns=\"Drug\", values=\"Mouse ID\")\n",
    "\n",
    "#Preview the mouse count dataframe\n",
    "mouse_count_pivot\n"
   ]
  },
  {
   "cell_type": "code",
   "execution_count": null,
   "metadata": {},
   "outputs": [],
   "source": [
    "#Mouse Count Plot\n",
    "#Create mouse count x axis\n",
    "total_time = mouse_count_pivot.index[-1]\n",
    "x_axis = np.arange(0, total_time + 5, 5)\n",
    "\n",
    "#Create metastatic sites y axis and plot metastatic sites data\n",
    "drugs = mouse_count_pivot.columns\n",
    "\n",
    "fig, ax = plt.subplots()\n",
    "\n",
    "for drug in drugs:\n",
    "    count = mouse_count_pivot[drug]\n",
    "    met_response = plt.errorbar(x_axis, count, marker=\"o\", ls='-', lw=.5, label = drug)\n",
    "\n",
    "#Format metastatic sites scatter plot\n",
    "plt.xlim(-3, total_time +25)\n",
    "plt.title(\"Mouse Survival Rate\")\n",
    "plt.xlabel(\"Days\")\n",
    "plt.ylabel(\"Mouse Count\")\n",
    "plt.legend(loc='best', facecolor=\"white\")\n",
    "plt.rcParams['text.color'] = '#555555'\n",
    "plt.rcParams['axes.prop_cycle'] = cycler(color=color_palette_list)\n",
    "\n",
    "#Save and display metastatic sites scatter plot\n",
    "plt.savefig(os.path.join(\"Images\",\"mousesurvival.png\"))\n",
    "plt.show()\n",
    "print(\"INSIGHT: Of the mice being tested, those being treated with Capomulin or Ramicane were more likely to survive\")"
   ]
  },
  {
   "cell_type": "markdown",
   "metadata": {},
   "source": [
    "## Summary Bar Graph"
   ]
  },
  {
   "cell_type": "code",
   "execution_count": null,
   "metadata": {},
   "outputs": [],
   "source": [
    "#Percent Changes\n",
    "#Calculate the percent decrease for each drug\n",
    "drugs = tumor_mean_pivot.columns\n",
    "percent_change = []\n",
    "change_type = []\n",
    "\n",
    "for drug in drugs:\n",
    "    start = tumor_mean_pivot[drug].iloc[0]\n",
    "    end = tumor_mean_pivot[drug].iloc[-1]\n",
    "    change = ((end - start)/start) * 100\n",
    "    percent_change.append(change)\n",
    "\n",
    "#Create and view dataframe of the changes for reference\n",
    "percent_change_df = pd.DataFrame({\"Drug\":drugs, \"Percent_Change\":percent_change})\n",
    "percent_change_df"
   ]
  },
  {
   "cell_type": "code",
   "execution_count": null,
   "metadata": {},
   "outputs": [],
   "source": [
    "def pos_neg_color(df,color1,color2):\n",
    "    return np.where(df.Percent_Change>0,color1,color2).T\n",
    "\n",
    "#Create axes\n",
    "total_drugs = percent_change_df[\"Drug\"].count()\n",
    "percent_change\n",
    "x_axis = np.arange(0, total_drugs, 1)\n",
    "\n",
    "#Create and format chart\n",
    "plt.bar(x_axis, percent_change, align=\"center\", tick_label = percent_change, color=pos_neg_color(percent_change_df,'#4D819D','#8C0036'))\n",
    "\n",
    "tick_locations = [value for value in x_axis]\n",
    "plt.xticks(tick_locations, drugs, rotation=\"vertical\")\n",
    "plt.title(\"Percent of Tumor Change After Treatment\")\n",
    "plt.xlabel(\"Drugs\")\n",
    "plt.ylabel(\"Percent Change\")\n",
    "\n",
    "\n",
    "#Save and display summary bar chart\n",
    "plt.savefig(os.path.join(\"Images\",\"percentchange.png\"))\n",
    "plt.show()\n",
    "print(\"INSIGHT: Treatments using Capomulin or Ramicane, on average, resulted in a significant decrease in the tumor volume. All other drug treatments, as well as the placebo showed high increases in tumor volume.\")"
   ]
  }
 ],
 "metadata": {
  "anaconda-cloud": {},
  "kernelspec": {
   "display_name": "Python 3",
   "language": "python",
   "name": "python3"
  },
  "language_info": {
   "codemirror_mode": {
    "name": "ipython",
    "version": 3
   },
   "file_extension": ".py",
   "mimetype": "text/x-python",
   "name": "python",
   "nbconvert_exporter": "python",
   "pygments_lexer": "ipython3",
   "version": "3.6.9"
  }
 },
 "nbformat": 4,
 "nbformat_minor": 1
}
